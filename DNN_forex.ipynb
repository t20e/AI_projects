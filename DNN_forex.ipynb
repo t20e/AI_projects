{
 "cells": [
  {
   "cell_type": "markdown",
   "id": "0a64803f-57f5-4915-bf6b-3110dcd342b5",
   "metadata": {},
   "source": [
    "# Deep Neural Network with many hidden layers for forex"
   ]
  },
  {
   "cell_type": "code",
   "execution_count": 1,
   "id": "33f438b7-9af9-4c23-a068-6f4f3ba9ca0e",
   "metadata": {},
   "outputs": [],
   "source": [
    "import numpy as np\n",
    "import h5py\n",
    "import matplotlib.pyplot as plt\n",
    "from utils.dnn_utils import sigmoid, sigmoid_backward, relu, relu_backward\n",
    "import copy\n",
    "import scipy\n",
    "from PIL import Image\n",
    "from scipy import ndimage\n",
    "import pandas as pd\n",
    "from sklearn.model_selection import train_test_split\n",
    "import sklearn\n",
    "import sklearn.datasets\n",
    "import sklearn.linear_model\n",
    "\n",
    "\n",
    "%matplotlib inline\n",
    "plt.rcParams['figure.figsize'] = (5.0, 4.0) # set default size of plots\n",
    "plt.rcParams['image.interpolation'] = 'nearest'\n",
    "plt.rcParams['image.cmap'] = 'gray'\n",
    "\n",
    "%load_ext autoreload\n",
    "%autoreload 2\n",
    "\n",
    "np.random.seed(1)"
   ]
  },
  {
   "cell_type": "code",
   "execution_count": 2,
   "id": "e4f5936a-b8ad-433f-8396-48ecce170109",
   "metadata": {},
   "outputs": [
    {
     "data": {
      "text/html": [
       "<div>\n",
       "<style scoped>\n",
       "    .dataframe tbody tr th:only-of-type {\n",
       "        vertical-align: middle;\n",
       "    }\n",
       "\n",
       "    .dataframe tbody tr th {\n",
       "        vertical-align: top;\n",
       "    }\n",
       "\n",
       "    .dataframe thead th {\n",
       "        text-align: right;\n",
       "    }\n",
       "</style>\n",
       "<table border=\"1\" class=\"dataframe\">\n",
       "  <thead>\n",
       "    <tr style=\"text-align: right;\">\n",
       "      <th></th>\n",
       "      <th>time</th>\n",
       "      <th>EUR_USD</th>\n",
       "    </tr>\n",
       "  </thead>\n",
       "  <tbody>\n",
       "    <tr>\n",
       "      <th>0</th>\n",
       "      <td>2018-08-22 02:40:00+00:00</td>\n",
       "      <td>1.15758</td>\n",
       "    </tr>\n",
       "    <tr>\n",
       "      <th>1</th>\n",
       "      <td>2018-08-22 02:45:00+00:00</td>\n",
       "      <td>1.15750</td>\n",
       "    </tr>\n",
       "    <tr>\n",
       "      <th>2</th>\n",
       "      <td>2018-08-22 02:50:00+00:00</td>\n",
       "      <td>1.15726</td>\n",
       "    </tr>\n",
       "    <tr>\n",
       "      <th>3</th>\n",
       "      <td>2018-08-22 02:55:00+00:00</td>\n",
       "      <td>1.15746</td>\n",
       "    </tr>\n",
       "    <tr>\n",
       "      <th>4</th>\n",
       "      <td>2018-08-22 03:00:00+00:00</td>\n",
       "      <td>1.15746</td>\n",
       "    </tr>\n",
       "    <tr>\n",
       "      <th>...</th>\n",
       "      <td>...</td>\n",
       "      <td>...</td>\n",
       "    </tr>\n",
       "    <tr>\n",
       "      <th>372104</th>\n",
       "      <td>2023-08-22 08:15:00+00:00</td>\n",
       "      <td>1.09182</td>\n",
       "    </tr>\n",
       "    <tr>\n",
       "      <th>372105</th>\n",
       "      <td>2023-08-22 08:20:00+00:00</td>\n",
       "      <td>1.09184</td>\n",
       "    </tr>\n",
       "    <tr>\n",
       "      <th>372106</th>\n",
       "      <td>2023-08-22 08:25:00+00:00</td>\n",
       "      <td>1.09183</td>\n",
       "    </tr>\n",
       "    <tr>\n",
       "      <th>372107</th>\n",
       "      <td>2023-08-22 08:30:00+00:00</td>\n",
       "      <td>1.09174</td>\n",
       "    </tr>\n",
       "    <tr>\n",
       "      <th>372108</th>\n",
       "      <td>2023-08-22 08:35:00+00:00</td>\n",
       "      <td>1.09164</td>\n",
       "    </tr>\n",
       "  </tbody>\n",
       "</table>\n",
       "<p>372109 rows × 2 columns</p>\n",
       "</div>"
      ],
      "text/plain": [
       "                             time  EUR_USD\n",
       "0       2018-08-22 02:40:00+00:00  1.15758\n",
       "1       2018-08-22 02:45:00+00:00  1.15750\n",
       "2       2018-08-22 02:50:00+00:00  1.15726\n",
       "3       2018-08-22 02:55:00+00:00  1.15746\n",
       "4       2018-08-22 03:00:00+00:00  1.15746\n",
       "...                           ...      ...\n",
       "372104  2023-08-22 08:15:00+00:00  1.09182\n",
       "372105  2023-08-22 08:20:00+00:00  1.09184\n",
       "372106  2023-08-22 08:25:00+00:00  1.09183\n",
       "372107  2023-08-22 08:30:00+00:00  1.09174\n",
       "372108  2023-08-22 08:35:00+00:00  1.09164\n",
       "\n",
       "[372109 rows x 2 columns]"
      ]
     },
     "execution_count": 2,
     "metadata": {},
     "output_type": "execute_result"
    }
   ],
   "source": [
    "df = pd.read_csv(\"./datasets/5_min_EUR_USD_2019_to_2023_mid_prices.csv\")\n",
    "df"
   ]
  },
  {
   "cell_type": "code",
   "execution_count": 3,
   "id": "ee9b4051-d1ca-4d64-9430-7a3127c20228",
   "metadata": {},
   "outputs": [],
   "source": [
    "symbol = 'EUR_USD'\n",
    "features_col_names = [\"price\", 'returns', \"dir\"]\n",
    "window = 50 # rolling window \n",
    "df[\"returns\"] = np.log(df[symbol] / df[symbol].shift())\n",
    "# if its positive we assign it [1] else negative [0]\n",
    "# Since this is a logistic regression Binary classification model its best to predict either 0 or 1 we cant make it \n",
    "# make it predict -1 if the price went down\n",
    "df['dir'] = np.where(df['returns'] > 0, 1, 0)\n",
    "df.dropna(inplace = True)"
   ]
  },
  {
   "cell_type": "code",
   "execution_count": 4,
   "id": "5ed7cd85-4a90-49a5-b82f-6b3d8e78b4b4",
   "metadata": {},
   "outputs": [],
   "source": [
    "def create_sequences(df, seq_length):\n",
    "    X, y = [], []\n",
    "    for i in range(0, len(df)-seq_length, seq_length):\n",
    "        X.append(df[df.columns[1]].iloc[i:i+seq_length])\n",
    "        y.append(df[df.columns[3]].iloc[i+seq_length - 1])\n",
    "    return np.array(X), np.array(y)"
   ]
  },
  {
   "cell_type": "code",
   "execution_count": 5,
   "id": "f396d5d7-8566-42ae-8293-e1d791a452cd",
   "metadata": {},
   "outputs": [],
   "source": [
    "X, y = create_sequences(df, 300)"
   ]
  },
  {
   "cell_type": "code",
   "execution_count": 6,
   "id": "ae2a3590-ce66-4337-9b8c-09ba5c9e2d16",
   "metadata": {},
   "outputs": [
    {
     "data": {
      "text/plain": [
       "((1240, 300), (1240,))"
      ]
     },
     "execution_count": 6,
     "metadata": {},
     "output_type": "execute_result"
    }
   ],
   "source": [
    "X.shape, y.shape"
   ]
  },
  {
   "cell_type": "code",
   "execution_count": 7,
   "id": "f8cbc5e5-425a-4c41-b894-155ca8767c1a",
   "metadata": {},
   "outputs": [],
   "source": [
    "# Standarize the data\n",
    "from sklearn.preprocessing import StandardScaler\n",
    "\n",
    "scaler = StandardScaler()\n",
    "X = scaler.fit_transform(X)"
   ]
  },
  {
   "cell_type": "code",
   "execution_count": 8,
   "id": "e63faa64-3acd-4d9b-8897-c9ee45790da4",
   "metadata": {},
   "outputs": [],
   "source": [
    "X_train, X_test, y_train, y_test = train_test_split(X, y, test_size=0.2, random_state=42)"
   ]
  },
  {
   "cell_type": "code",
   "execution_count": 9,
   "id": "7dce0ae9-8616-4c7d-a3c7-b5ea1999c962",
   "metadata": {},
   "outputs": [
    {
     "data": {
      "text/plain": [
       "((992, 300), (248, 300))"
      ]
     },
     "execution_count": 9,
     "metadata": {},
     "output_type": "execute_result"
    }
   ],
   "source": [
    "X_train.shape, X_test.shape"
   ]
  },
  {
   "cell_type": "code",
   "execution_count": 10,
   "id": "1e789c7a-b6bd-433c-8464-9ce80595ea84",
   "metadata": {},
   "outputs": [
    {
     "data": {
      "text/plain": [
       "((992,), (248,))"
      ]
     },
     "execution_count": 10,
     "metadata": {},
     "output_type": "execute_result"
    }
   ],
   "source": [
    "y_train.shape, y_test.shape"
   ]
  },
  {
   "cell_type": "code",
   "execution_count": 11,
   "id": "c0eb11e6-890b-44be-8b6e-f8ace8e2560c",
   "metadata": {},
   "outputs": [],
   "source": [
    "train_set_x = X_train.reshape(X_train.shape[0], -1).T\n",
    "test_set_x = X_test.reshape(X_test.shape[0], -1).T"
   ]
  },
  {
   "cell_type": "code",
   "execution_count": 12,
   "id": "e070aac9-3e32-4f10-8482-039c13910c46",
   "metadata": {},
   "outputs": [
    {
     "data": {
      "text/plain": [
       "((300, 992), (300, 248))"
      ]
     },
     "execution_count": 12,
     "metadata": {},
     "output_type": "execute_result"
    }
   ],
   "source": [
    "train_set_x.shape, test_set_x.shape"
   ]
  },
  {
   "cell_type": "code",
   "execution_count": 14,
   "id": "28647049-5960-4976-a2df-53fc922b326e",
   "metadata": {},
   "outputs": [
    {
     "data": {
      "text/plain": [
       "((1, 992), (1, 248))"
      ]
     },
     "execution_count": 14,
     "metadata": {},
     "output_type": "execute_result"
    }
   ],
   "source": [
    "train_set_y = y_train.reshape(1, -1)\n",
    "test_set_y = y_test.reshape(1, -1)\n",
    "train_set_y.shape, test_set_y.shape"
   ]
  },
  {
   "cell_type": "code",
   "execution_count": 15,
   "id": "6adb18d8-306a-407e-8082-0c58929d669d",
   "metadata": {},
   "outputs": [
    {
     "name": "stdout",
     "output_type": "stream",
     "text": [
      "\n",
      "train_set_x shape: (300, 992)\n",
      "test_set_x shape: (300, 248)\n",
      "\n",
      "train_set_y shape: (1, 992)\n",
      "test_set_y shape: (1, 248)\n",
      "\n"
     ]
    }
   ],
   "source": [
    "print(f\"\"\"\n",
    "train_set_x shape: {train_set_x.shape}\n",
    "test_set_x shape: {test_set_x.shape}\n",
    "\n",
    "train_set_y shape: {train_set_y.shape}\n",
    "test_set_y shape: {test_set_y.shape}\n",
    "\"\"\")"
   ]
  },
  {
   "cell_type": "markdown",
   "id": "9db0d955-6340-451c-ae6b-97425986a463",
   "metadata": {},
   "source": [
    "# Model"
   ]
  },
  {
   "cell_type": "code",
   "execution_count": 29,
   "id": "87bb881f-e704-4d0a-b0c0-c0e6ea3b88aa",
   "metadata": {},
   "outputs": [],
   "source": [
    "from utils.dnn_utils import *"
   ]
  },
  {
   "cell_type": "code",
   "execution_count": 30,
   "id": "df2c7571-9a2c-4619-a914-9b13c41c3286",
   "metadata": {},
   "outputs": [],
   "source": [
    "### CONSTANTS DEFINING THE MODEL ####\n",
    "n_x = train_set_x.shape[0]     # num_px * num_px * 3\n",
    "n_h = 7\n",
    "n_y = 1\n",
    "layers_dims = (n_x, n_h, n_y)\n",
    "learning_rate = 0.0075"
   ]
  },
  {
   "cell_type": "code",
   "execution_count": 31,
   "id": "4a316415-dbca-4ec3-879c-65164629a716",
   "metadata": {},
   "outputs": [],
   "source": [
    "def two_layer_model(X, Y, layers_dims, learning_rate = 0.0075, num_iterations = 3000, print_cost=False):\n",
    "    \"\"\"\n",
    "    Implements a two-layer neural network: LINEAR->RELU->LINEAR->SIGMOID.\n",
    "    \n",
    "    Arguments:\n",
    "    X -- input data, of shape (n_x, number of examples)\n",
    "    Y -- true \"label\" vector (containing 1 if cat, 0 if non-cat), of shape (1, number of examples)\n",
    "    layers_dims -- dimensions of the layers (n_x, n_h, n_y)\n",
    "    num_iterations -- number of iterations of the optimization loop\n",
    "    learning_rate -- learning rate of the gradient descent update rule\n",
    "    print_cost -- If set to True, this will print the cost every 100 iterations \n",
    "    \n",
    "    Returns:\n",
    "    parameters -- a dictionary containing W1, W2, b1, and b2\n",
    "    \"\"\"\n",
    "    \n",
    "    np.random.seed(1)\n",
    "    grads = {}\n",
    "    costs = []                              # to keep track of the cost\n",
    "    m = X.shape[1]                           # number of examples\n",
    "    (n_x, n_h, n_y) = layers_dims\n",
    "    \n",
    "    # Initialize parameters dictionary, by calling one of the functions you'd previously implemented\n",
    "    parameters = initialize_parameters(n_x, n_h, n_y)\n",
    "    \n",
    "    # Get W1, b1, W2 and b2 from the dictionary parameters.\n",
    "    W1 = parameters[\"W1\"]\n",
    "    b1 = parameters[\"b1\"]\n",
    "    W2 = parameters[\"W2\"]\n",
    "    b2 = parameters[\"b2\"]\n",
    "    \n",
    "    # Loop (gradient descent)\n",
    "\n",
    "    for i in range(0, num_iterations):\n",
    "\n",
    "        # Forward propagation: LINEAR -> RELU -> LINEAR -> SIGMOID. Inputs: \"X, W1, b1, W2, b2\". Output: \"A1, cache1, A2, cache2\".\n",
    "        A1, cache1 = linear_activation_forward(X, W1, b1, \"relu\")\n",
    "        A2, cache2 = linear_activation_forward(A1, W2, b2, \"sigmoid\")\n",
    "        \n",
    "        # Compute cost\n",
    "        cost = compute_cost(A2, Y)\n",
    "        \n",
    "        # Initializing backward propagation\n",
    "        dA2 = - (np.divide(Y, A2) - np.divide(1 - Y, 1 - A2))\n",
    "        \n",
    "        # Backward propagation. Inputs: \"dA2, cache2, cache1\". Outputs: \"dA1, dW2, db2; also dA0 (not used), dW1, db1\".\n",
    "        dA1, dW2, db2 = linear_activation_backward(dA2, cache2, \"sigmoid\")\n",
    "        dA0, dW1, db1 = linear_activation_backward(dA1, cache1, \"relu\")\n",
    "        \n",
    "        grads['dW1'] = dW1\n",
    "        grads['db1'] = db1\n",
    "        grads['dW2'] = dW2\n",
    "        grads['db2'] = db2\n",
    "        \n",
    "        # Update parameters.\n",
    "        parameters = update_parameters(parameters, grads, learning_rate)\n",
    "\n",
    "        # Retrieve W1, b1, W2, b2 from parameters\n",
    "        W1 = parameters[\"W1\"]\n",
    "        b1 = parameters[\"b1\"]\n",
    "        W2 = parameters[\"W2\"]\n",
    "        b2 = parameters[\"b2\"]\n",
    "        \n",
    "        # Print the cost every 100 iterations\n",
    "        if print_cost and i % 100 == 0 or i == num_iterations - 1:\n",
    "            print(\"Cost after iteration {}: {}\".format(i, np.squeeze(cost)))\n",
    "        if i % 100 == 0 or i == num_iterations:\n",
    "            costs.append(cost)\n",
    "\n",
    "    return parameters, costs\n",
    "\n",
    "def plot_costs(costs, learning_rate=0.0075):\n",
    "    plt.plot(np.squeeze(costs))\n",
    "    plt.ylabel('cost')\n",
    "    plt.xlabel('iterations (per hundreds)')\n",
    "    plt.title(\"Learning rate =\" + str(learning_rate))\n",
    "    plt.show()"
   ]
  },
  {
   "cell_type": "code",
   "execution_count": 32,
   "id": "a26531e0-fade-4d4b-b547-0ea01a138819",
   "metadata": {},
   "outputs": [
    {
     "name": "stdout",
     "output_type": "stream",
     "text": [
      "Cost after iteration 0: 0.6931130777110766\n",
      "Cost after iteration 100: 0.6931029306659298\n",
      "Cost after iteration 200: 0.6930934217015096\n",
      "Cost after iteration 300: 0.6930842371439372\n",
      "Cost after iteration 400: 0.6930751119303495\n",
      "Cost after iteration 500: 0.6930660152947213\n",
      "Cost after iteration 600: 0.6930569119951866\n",
      "Cost after iteration 700: 0.6930478057687249\n",
      "Cost after iteration 800: 0.6930387008651787\n",
      "Cost after iteration 900: 0.6930296354240372\n",
      "Cost after iteration 1000: 0.6930206900221592\n",
      "Cost after iteration 1100: 0.6930119395861444\n",
      "Cost after iteration 1200: 0.6930034440330266\n",
      "Cost after iteration 1300: 0.6929952841068188\n",
      "Cost after iteration 1400: 0.6929875444539852\n",
      "Cost after iteration 1500: 0.6929802836895042\n",
      "Cost after iteration 1600: 0.692973546494508\n",
      "Cost after iteration 1700: 0.6929673603037468\n",
      "Cost after iteration 1800: 0.6929617365217664\n",
      "Cost after iteration 1900: 0.6929566748721204\n",
      "Cost after iteration 2000: 0.6929521650072121\n",
      "Cost after iteration 2100: 0.6929481788771935\n",
      "Cost after iteration 2200: 0.6929446808907446\n",
      "Cost after iteration 2300: 0.6929416320839126\n",
      "Cost after iteration 2400: 0.6929389902801909\n",
      "Cost after iteration 2499: 0.6929367341028468\n"
     ]
    },
    {
     "data": {
      "image/png": "[encoded data removed]",
      "text/plain": [
       "<Figure size 500x400 with 1 Axes>"
      ]
     },
     "metadata": {},
     "output_type": "display_data"
    }
   ],
   "source": [
    "parameters, costs = two_layer_model(train_set_x, train_set_y, layers_dims = (n_x, n_h, n_y), num_iterations = 2500, print_cost=True)\n",
    "plot_costs(costs, learning_rate)"
   ]
  },
  {
   "cell_type": "code",
   "execution_count": 33,
   "id": "e90aa8d4-3a00-40dc-9cf1-1110fbdb737a",
   "metadata": {},
   "outputs": [
    {
     "name": "stdout",
     "output_type": "stream",
     "text": [
      "Accuracy: 0.5141129032258065\n"
     ]
    }
   ],
   "source": [
    "predictions_train = predict(train_set_x, train_set_y, parameters)"
   ]
  },
  {
   "cell_type": "code",
   "execution_count": 34,
   "id": "5cc39029-78c8-4ff7-8d06-d1a34da31067",
   "metadata": {},
   "outputs": [
    {
     "name": "stdout",
     "output_type": "stream",
     "text": [
      "Accuracy: 0.5141129032258065\n"
     ]
    }
   ],
   "source": [
    "predictions_test = predict(train_set_x, train_set_y, parameters)"
   ]
  },
  {
   "cell_type": "markdown",
   "id": "f6f6b908-22b1-4186-8b3b-abc231e6702c",
   "metadata": {},
   "source": [
    "### Multi-layer- DNN"
   ]
  },
  {
   "cell_type": "code",
   "execution_count": 39,
   "id": "465e4756-d297-4bba-a59f-96378599d131",
   "metadata": {},
   "outputs": [],
   "source": [
    "layers_dims = [train_set_x.shape[0], 20, 7, 5, 1] #  4-layer model"
   ]
  },
  {
   "cell_type": "code",
   "execution_count": 40,
   "id": "b06a2ea8-64cb-409f-916e-031f375c3ce8",
   "metadata": {},
   "outputs": [],
   "source": [
    "def L_layer_model(X, Y, layers_dims, learning_rate = 0.0075, num_iterations = 3000, print_cost=False):\n",
    "    \"\"\"\n",
    "    Implements a L-layer neural network: [LINEAR->RELU]*(L-1)->LINEAR->SIGMOID.\n",
    "    \n",
    "    Arguments:\n",
    "    X -- input data, of shape (n_x, number of examples)\n",
    "    Y -- true \"label\" vector (containing 1 if cat, 0 if non-cat), of shape (1, number of examples)\n",
    "    layers_dims -- list containing the input size and each layer size, of length (number of layers + 1).\n",
    "    learning_rate -- learning rate of the gradient descent update rule\n",
    "    num_iterations -- number of iterations of the optimization loop\n",
    "    print_cost -- if True, it prints the cost every 100 steps\n",
    "    \n",
    "    Returns:\n",
    "    parameters -- parameters learnt by the model. They can then be used to predict.\n",
    "    \"\"\"\n",
    "\n",
    "    np.random.seed(1)\n",
    "    costs = []                         # keep track of cost\n",
    "    \n",
    "    # Parameters initialization.\n",
    "    parameters = initialize_parameters_deep(layers_dims)\n",
    "    \n",
    "    # Loop (gradient descent)\n",
    "    for i in range(0, num_iterations):\n",
    "\n",
    "        # Forward propagation: [LINEAR -> RELU]*(L-1) -> LINEAR -> SIGMOID.\n",
    "        AL, caches = L_model_forward(X, parameters)\n",
    "        \n",
    "        # Compute cost.\n",
    "        cost = compute_cost(AL, Y)\n",
    "        # Backward propagation.\n",
    "        grads = L_model_backward(AL, Y, caches)\n",
    "        \n",
    "        # Update parameters.\n",
    "        parameters = update_parameters(parameters, grads, learning_rate)\n",
    "        \n",
    "        # Print the cost every 100 iterations\n",
    "        if print_cost and i % 100 == 0 or i == num_iterations - 1:\n",
    "            print(\"Cost after iteration {}: {}\".format(i, np.squeeze(cost)))\n",
    "        if i % 100 == 0 or i == num_iterations:\n",
    "            costs.append(cost)\n",
    "    \n",
    "    return parameters, costs"
   ]
  },
  {
   "cell_type": "code",
   "execution_count": 41,
   "id": "a9e851a1-2a21-4bf9-9161-a4363236a042",
   "metadata": {
    "scrolled": true
   },
   "outputs": [
    {
     "name": "stdout",
     "output_type": "stream",
     "text": [
      "Cost after iteration 0: 0.7573199440215989\n",
      "Cost after first iteration: 0.7573199440215989\n"
     ]
    }
   ],
   "source": [
    "parameters, costs = L_layer_model(train_set_x, train_set_y, layers_dims, num_iterations = 1, print_cost = False)\n",
    "print(\"Cost after first iteration: \" + str(costs[0]))"
   ]
  },
  {
   "cell_type": "code",
   "execution_count": 42,
   "id": "6aaba8bb-7f65-4ab5-97e1-cfb6c14ce65a",
   "metadata": {},
   "outputs": [
    {
     "name": "stdout",
     "output_type": "stream",
     "text": [
      "Cost after iteration 0: 0.7573199440215989\n",
      "Cost after iteration 100: 0.694059403820642\n",
      "Cost after iteration 200: 0.6930365314553418\n",
      "Cost after iteration 300: 0.6929181108878769\n",
      "Cost after iteration 400: 0.6928332043515008\n",
      "Cost after iteration 500: 0.6928118062500032\n",
      "Cost after iteration 600: 0.6927867437105351\n",
      "Cost after iteration 700: 0.692768497632822\n",
      "Cost after iteration 800: 0.6927440073223321\n",
      "Cost after iteration 900: 0.6927308820168816\n",
      "Cost after iteration 1000: 0.6927177774873495\n",
      "Cost after iteration 1100: 0.69270772239456\n",
      "Cost after iteration 1200: 0.692695337071506\n",
      "Cost after iteration 1300: 0.692683767335179\n",
      "Cost after iteration 1400: 0.6926711236120451\n",
      "Cost after iteration 1500: 0.6926596612928632\n",
      "Cost after iteration 1600: 0.6926494833300529\n",
      "Cost after iteration 1700: 0.6926402287942853\n",
      "Cost after iteration 1800: 0.6926310777235293\n",
      "Cost after iteration 1900: 0.6926220724981139\n",
      "Cost after iteration 2000: 0.6926119431701436\n",
      "Cost after iteration 2100: 0.6926032658110705\n",
      "Cost after iteration 2200: 0.692593976181427\n",
      "Cost after iteration 2300: 0.6925845892097952\n",
      "Cost after iteration 2400: 0.6925761470644902\n",
      "Cost after iteration 2499: 0.6925680282643639\n"
     ]
    }
   ],
   "source": [
    "parameters, costs = L_layer_model(train_set_x, train_set_y, layers_dims, num_iterations = 2500, print_cost = True)"
   ]
  },
  {
   "cell_type": "code",
   "execution_count": 45,
   "id": "76f2389a-3206-4605-92f1-1e40afecd5bf",
   "metadata": {},
   "outputs": [
    {
     "name": "stdout",
     "output_type": "stream",
     "text": [
      "Accuracy: 0.5171370967741935\n"
     ]
    }
   ],
   "source": [
    "pred_train = predict(train_set_x, train_set_y, parameters)"
   ]
  },
  {
   "cell_type": "code",
   "execution_count": 44,
   "id": "9901150c-eb6b-465c-93e3-b77f2c5cd2a3",
   "metadata": {},
   "outputs": [
    {
     "name": "stdout",
     "output_type": "stream",
     "text": [
      "Accuracy: 0.5362903225806451\n"
     ]
    }
   ],
   "source": [
    "pred_test = predict(test_set_x, test_set_y, parameters)"
   ]
  },
  {
   "cell_type": "code",
   "execution_count": null,
   "id": "5a70ae27-fbf8-4c52-9535-31091d1e1b70",
   "metadata": {},
   "outputs": [],
   "source": []
  }
 ],
 "metadata": {
  "kernelspec": {
   "display_name": "Python 3 (ipykernel)",
   "language": "python",
   "name": "python3"
  },
  "language_info": {
   "codemirror_mode": {
    "name": "ipython",
    "version": 3
   },
   "file_extension": ".py",
   "mimetype": "text/x-python",
   "name": "python",
   "nbconvert_exporter": "python",
   "pygments_lexer": "ipython3",
   "version": "3.10.13"
  }
 },
 "nbformat": 4,
 "nbformat_minor": 5
}
