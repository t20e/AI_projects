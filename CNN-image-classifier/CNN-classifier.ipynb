{
 "cells": [
  {
   "cell_type": "markdown",
   "metadata": {},
   "source": [
    "# CNN/Convolusion  Classifier"
   ]
  },
  {
   "cell_type": "markdown",
   "metadata": {},
   "source": [
    "#### Load libraries"
   ]
  },
  {
   "cell_type": "code",
   "execution_count": 35,
   "metadata": {},
   "outputs": [],
   "source": [
    "import tensorflow as tf\n",
    "import matplotlib.pyplot as plt\n",
    "from matplotlib.pyplot import imread\n",
    "import numpy as np\n",
    "import tensorflow.keras.layers as Layers\n",
    "import pandas as pd"
   ]
  },
  {
   "cell_type": "markdown",
   "metadata": {},
   "source": [
    "#### Load datasets from tensorflow this is a dataset of handwritten integer images"
   ]
  },
  {
   "cell_type": "code",
   "execution_count": 36,
   "metadata": {},
   "outputs": [],
   "source": [
    "# Load MNIST dataset\n",
    "(X_train, Y_train), (X_test, Y_test) = tf.keras.datasets.mnist.load_data()"
   ]
  },
  {
   "cell_type": "markdown",
   "metadata": {},
   "source": [
    "#### Plot the images\n",
    "\n",
    "The images are 2d so it doesn't have channels of red, green and blue. Its just grey-scaled, they are 28 pixels height x 28 pixels width."
   ]
  },
  {
   "cell_type": "code",
   "execution_count": 37,
   "metadata": {},
   "outputs": [
    {
     "name": "stdout",
     "output_type": "stream",
     "text": [
      "Shape: (num_image_examples, num_pixel_height, num_pixel_width)\n",
      "Training images shape: (60000, 28, 28)\n",
      "Training labels shape: (60000,)\n",
      "Test images shape: (10000, 28, 28)\n",
      "Test labels shape: (10000,)\n"
     ]
    }
   ],
   "source": [
    "print(\"Shape: (num_image_examples, num_pixel_height, num_pixel_width)\")\n",
    "print(\"Training images shape:\", X_train.shape)\n",
    "print(\"Training labels shape:\", Y_train.shape)\n",
    "print(\"Test images shape:\", X_test.shape)\n",
    "print(\"Test labels shape:\", Y_test.shape)"
   ]
  },
  {
   "cell_type": "code",
   "execution_count": 38,
   "metadata": {},
   "outputs": [
    {
     "data": {
      "text/plain": [
       "(28, 28)"
      ]
     },
     "execution_count": 38,
     "metadata": {},
     "output_type": "execute_result"
    }
   ],
   "source": [
    "image_shape = X_train[1].shape\n",
    "image_shape"
   ]
  },
  {
   "cell_type": "code",
   "execution_count": 39,
   "metadata": {},
   "outputs": [
    {
     "data": {
      "image/png": "[encoded data removed]",
      "text/plain": [
       "<Figure size 640x480 with 1 Axes>"
      ]
     },
     "metadata": {},
     "output_type": "display_data"
    }
   ],
   "source": [
    "# plot images by index of the dataset\n",
    "index = 2\n",
    "plt.imshow(X_train[index]) #display sample training image\n",
    "plt.show()"
   ]
  },
  {
   "cell_type": "markdown",
   "metadata": {},
   "source": [
    "#### Preprocess the Data"
   ]
  },
  {
   "cell_type": "code",
   "execution_count": 40,
   "metadata": {},
   "outputs": [],
   "source": [
    "# Normalize the images so that the model can converge faster\n",
    "# Normalize pixel values to range [0, 1] means values are in range from 0 to 1 and 255 is the maximum value a pixel can be so we divide by it\n",
    "train_images, test_images = X_train / 255.0, X_test / 255.0"
   ]
  },
  {
   "cell_type": "code",
   "execution_count": 41,
   "metadata": {},
   "outputs": [
    {
     "data": {
      "text/plain": [
       "array([5, 0, 4, ..., 5, 6, 8], dtype=uint8)"
      ]
     },
     "execution_count": 41,
     "metadata": {},
     "output_type": "execute_result"
    }
   ],
   "source": [
    "Y_train # 5 means that the corresponding image is a handwritten 5 and so is 0 and 4, etc..."
   ]
  },
  {
   "cell_type": "code",
   "execution_count": 42,
   "metadata": {},
   "outputs": [
    {
     "data": {
      "text/plain": [
       "array([0, 1, 2, 3, 4, 5, 6, 7, 8, 9], dtype=uint8)"
      ]
     },
     "execution_count": 42,
     "metadata": {},
     "output_type": "execute_result"
    }
   ],
   "source": [
    "np.unique(Y_test) # get the unique number of classes this means that the handwritten int images\n",
    "# are from 0 to 9"
   ]
  },
  {
   "cell_type": "code",
   "execution_count": 43,
   "metadata": {},
   "outputs": [
    {
     "name": "stdout",
     "output_type": "stream",
     "text": [
      "We have 10 classes unique handwritten int images\n"
     ]
    }
   ],
   "source": [
    "num_classes = len(np.unique(Y_test))\n",
    "print(f\"We have {num_classes} classes unique handwritten int images\")"
   ]
  },
  {
   "cell_type": "code",
   "execution_count": 44,
   "metadata": {},
   "outputs": [],
   "source": [
    "def convert_to_one_hot(Y, C):\n",
    "    \"\"\"\n",
    "    Parameters\n",
    "    ==========\n",
    "    Y : np array\n",
    "        is the array with ints that need to be converted to to one-hot\n",
    "    C: int\n",
    "        is the number of classes to identify, example we have handwritten images written that can range\n",
    "        from 0-9 so we have \n",
    "\n",
    "    Converts a class of lets say [1] == a one handwritten image to \n",
    "    [1]\n",
    "    [0]\n",
    "    [0]     matrix so that the model will be able to see classes and classify it by that\n",
    "    [0]\n",
    "    [0]\n",
    "    \"\"\"\n",
    "    Y = np.eye(C)[Y.reshape(-1)].T\n",
    "    return Y"
   ]
  },
  {
   "cell_type": "markdown",
   "metadata": {},
   "source": [
    "convert Y/labels to one-hot"
   ]
  },
  {
   "cell_type": "code",
   "execution_count": 45,
   "metadata": {},
   "outputs": [],
   "source": [
    "Y_train = convert_to_one_hot(Y_train, num_classes).T\n",
    "Y_test = convert_to_one_hot(Y_test, num_classes).T"
   ]
  },
  {
   "cell_type": "code",
   "execution_count": 46,
   "metadata": {},
   "outputs": [
    {
     "data": {
      "text/plain": [
       "array([[0., 0., 0., ..., 0., 0., 0.],\n",
       "       [1., 0., 0., ..., 0., 0., 0.],\n",
       "       [0., 0., 0., ..., 0., 0., 0.],\n",
       "       ...,\n",
       "       [0., 0., 0., ..., 0., 0., 0.],\n",
       "       [0., 0., 0., ..., 0., 0., 0.],\n",
       "       [0., 0., 0., ..., 0., 1., 0.]])"
      ]
     },
     "execution_count": 46,
     "metadata": {},
     "output_type": "execute_result"
    }
   ],
   "source": [
    "Y_train"
   ]
  },
  {
   "cell_type": "code",
   "execution_count": 47,
   "metadata": {},
   "outputs": [
    {
     "data": {
      "text/plain": [
       "((60000, 28, 28), (60000, 10))"
      ]
     },
     "execution_count": 47,
     "metadata": {},
     "output_type": "execute_result"
    }
   ],
   "source": [
    "X_train.shape, Y_train.shape"
   ]
  },
  {
   "cell_type": "code",
   "execution_count": 48,
   "metadata": {},
   "outputs": [
    {
     "data": {
      "text/plain": [
       "array([0., 0., 0., 0., 0., 1., 0., 0., 0., 0.])"
      ]
     },
     "execution_count": 48,
     "metadata": {},
     "output_type": "execute_result"
    }
   ],
   "source": [
    "Y_train[0] # this index corresponds to the first 5 if u scroll up to the \n",
    "# print statement above Y_train = 5, 0, 4, ...\n",
    "# the 1 is in the 5th index of the one-hot matrix starting from index 0"
   ]
  },
  {
   "cell_type": "code",
   "execution_count": 49,
   "metadata": {},
   "outputs": [
    {
     "data": {
      "text/plain": [
       "array([1., 0., 0., 0., 0., 0., 0., 0., 0., 0.])"
      ]
     },
     "execution_count": 49,
     "metadata": {},
     "output_type": "execute_result"
    }
   ],
   "source": [
    "Y_train[1] # the 0 after the 5 has a 1 in the zero'th index"
   ]
  },
  {
   "cell_type": "markdown",
   "metadata": {},
   "source": [
    "### Model"
   ]
  },
  {
   "cell_type": "code",
   "execution_count": 50,
   "metadata": {},
   "outputs": [],
   "source": [
    "def CNN_Model(input_shape, num_classes):\n",
    "    \"\"\"\n",
    "    Implements the forward propagation for the model:\n",
    "    CONV2D -> RELU -> MAXPOOL -> CONV2D -> RELU -> MAXPOOL -> FLATTEN -> DENSE\n",
    "    \n",
    "    Arguments:\n",
    "    input_shape -- the dataset of the X_train shape\n",
    "\n",
    "    Returns:\n",
    "    model -- TF Keras model (object containing the information for the entire training process) \n",
    "    \"\"\"\n",
    "    \"\"\"\n",
    "    Where padding='same'\n",
    "        means that when we apply a convolution over the dataset, \n",
    "        after filtering the output shape will be the same shape as whatever was inputted just changing\n",
    "        the channel to be the of the filters size, example we pass a 3d image of size (64x64x3)\n",
    "        to the Conv2d with the same parameters as below, we get an output matrix of shape\n",
    "        (64, 64, 8). the 8 represents the filter size of that conv2d\n",
    "    filters:\n",
    "        means how many filters of a conv are we doing\n",
    "    kernel_size:\n",
    "        is the size of a single filter, example we have a 2d image of shape (16x16) we have 10 filters\n",
    "        with kernel_size size (3x3) this means we are applying a (3x3) matrix over the 16x16 image 10 times\n",
    "        to get the convolution output matrix\n",
    "    stride: how much to skip when applying the filters \n",
    "    MaxPool2D:\n",
    "        get the max int from each region of the input matrix, basic to make computation faster, we scale\n",
    "        down the number of parameters, in this case at P1 the output of the RElU would be of shape\n",
    "        (None, 64, 64, 8) then after the MaxPool2d we get (None, 8, 8, 8) so basically 8x8 = 64 we are\n",
    "        reducing the parameter count/ downsampling\n",
    "    Flatten:\n",
    "        takes am=n input matrix of like 2d, or 3d etc.. and flatten it to a one-dimensional array of\n",
    "        shape (1, all the ints of the input matrix)\n",
    "        input matrix (1, 2, 2, 16) flattens it to (1, 64) so from many nested arrays to one single array\n",
    "        containing all the values\n",
    "\n",
    "    Dense:\n",
    "        a regular Neural Network not CNN that predicts the output using the soft max it will predict\n",
    "        a array of one-hot encoding like when we encoded the Y/labels\n",
    "        units should be same size as the number of classes in a one-hot encoding \n",
    "\n",
    "    Since we are using 2D images we use the Conv1D etc so 1D for all other layers, and we set the\n",
    "    kernel_size, strides, and pool_size to an int instead of like a tuple (8, 8) for 3d images, 3d images\n",
    "    means we have an image with 3 color channels\n",
    "    \"\"\"\n",
    "\n",
    "    input_img = tf.keras.Input(shape=input_shape)\n",
    "    \n",
    "    Z1 = Layers.Conv1D(filters=8, kernel_size=4, strides=1, activation='linear', padding='same')(input_img)\n",
    "    A1 = Layers.ReLU()(Z1)\n",
    "    P1 = Layers.MaxPool1D(pool_size=8, strides=8, padding='same')(A1)\n",
    "    Z2 = Layers.Conv1D(filters=16, kernel_size=2, strides=1, activation='linear', padding='same')(P1)\n",
    "    A2 = Layers.ReLU()(Z2)\n",
    "    P2 = Layers.MaxPool1D(pool_size=4, strides=4, padding='same')(A2)\n",
    "    F = Layers.Flatten()(P2)\n",
    "    outputs = Layers.Dense(units=num_classes, activation='softmax')(F)\n",
    "\n",
    "    # create the model\n",
    "    model = tf.keras.Model(inputs=input_img, outputs=outputs)\n",
    "    return model"
   ]
  },
  {
   "cell_type": "markdown",
   "metadata": {},
   "source": [
    "Create and Compile the model"
   ]
  },
  {
   "cell_type": "code",
   "execution_count": 51,
   "metadata": {},
   "outputs": [
    {
     "name": "stdout",
     "output_type": "stream",
     "text": [
      "Model: \"model_1\"\n",
      "_________________________________________________________________\n",
      " Layer (type)                Output Shape              Param #   \n",
      "=================================================================\n",
      " input_8 (InputLayer)        [(None, 28, 28)]          0         \n",
      "                                                                 \n",
      " conv1d_8 (Conv1D)           (None, 28, 8)             904       \n",
      "                                                                 \n",
      " re_lu_5 (ReLU)              (None, 28, 8)             0         \n",
      "                                                                 \n",
      " max_pooling1d_5 (MaxPoolin  (None, 4, 8)              0         \n",
      " g1D)                                                            \n",
      "                                                                 \n",
      " conv1d_9 (Conv1D)           (None, 4, 16)             272       \n",
      "                                                                 \n",
      " re_lu_6 (ReLU)              (None, 4, 16)             0         \n",
      "                                                                 \n",
      " max_pooling1d_6 (MaxPoolin  (None, 1, 16)             0         \n",
      " g1D)                                                            \n",
      "                                                                 \n",
      " flatten_1 (Flatten)         (None, 16)                0         \n",
      "                                                                 \n",
      " dense_1 (Dense)             (None, 10)                170       \n",
      "                                                                 \n",
      "=================================================================\n",
      "Total params: 1346 (5.26 KB)\n",
      "Trainable params: 1346 (5.26 KB)\n",
      "Non-trainable params: 0 (0.00 Byte)\n",
      "_________________________________________________________________\n"
     ]
    }
   ],
   "source": [
    "conv_model = CNN_Model( image_shape, num_classes)\n",
    "\n",
    "conv_model.compile(optimizer='adam', # pass the optimizer for gradient descent\n",
    "                loss='categorical_crossentropy', # the loss function to calculate between true values and predicted values\n",
    "                metrics=['accuracy']) #which metrics we want to save\n",
    "conv_model.summary()"
   ]
  },
  {
   "cell_type": "markdown",
   "metadata": {},
   "source": [
    "### Train The Model"
   ]
  },
  {
   "cell_type": "code",
   "execution_count": 52,
   "metadata": {},
   "outputs": [
    {
     "name": "stdout",
     "output_type": "stream",
     "text": [
      "Epoch 1/10\n",
      "   7/1875 [..............................] - ETA: 17s - loss: 112.7343 - accuracy: 0.0759 "
     ]
    },
    {
     "name": "stderr",
     "output_type": "stream",
     "text": [
      "2024-03-28 11:28:24.575326: I tensorflow/core/grappler/optimizers/custom_graph_optimizer_registry.cc:114] Plugin optimizer for device_type GPU is enabled.\n"
     ]
    },
    {
     "name": "stdout",
     "output_type": "stream",
     "text": [
      "1870/1875 [============================>.] - ETA: 0s - loss: 5.4496 - accuracy: 0.3747"
     ]
    },
    {
     "name": "stderr",
     "output_type": "stream",
     "text": [
      "2024-03-28 11:28:40.840499: I tensorflow/core/grappler/optimizers/custom_graph_optimizer_registry.cc:114] Plugin optimizer for device_type GPU is enabled.\n"
     ]
    },
    {
     "name": "stdout",
     "output_type": "stream",
     "text": [
      "1875/1875 [==============================] - 19s 10ms/step - loss: 5.4392 - accuracy: 0.3751 - val_loss: 1.4521 - val_accuracy: 0.5335\n",
      "Epoch 2/10\n",
      "1875/1875 [==============================] - 18s 10ms/step - loss: 1.1193 - accuracy: 0.6423 - val_loss: 0.7994 - val_accuracy: 0.7493\n",
      "Epoch 3/10\n",
      "1875/1875 [==============================] - 19s 10ms/step - loss: 0.6546 - accuracy: 0.8021 - val_loss: 0.5098 - val_accuracy: 0.8438\n",
      "Epoch 4/10\n",
      "1875/1875 [==============================] - 18s 10ms/step - loss: 0.4558 - accuracy: 0.8658 - val_loss: 0.3766 - val_accuracy: 0.8880\n",
      "Epoch 5/10\n",
      "1875/1875 [==============================] - 18s 10ms/step - loss: 0.3720 - accuracy: 0.8910 - val_loss: 0.3474 - val_accuracy: 0.8907\n",
      "Epoch 6/10\n",
      "1875/1875 [==============================] - 18s 10ms/step - loss: 0.3263 - accuracy: 0.9033 - val_loss: 0.2918 - val_accuracy: 0.9130\n",
      "Epoch 7/10\n",
      "1875/1875 [==============================] - 18s 10ms/step - loss: 0.2946 - accuracy: 0.9105 - val_loss: 0.2827 - val_accuracy: 0.9141\n",
      "Epoch 8/10\n",
      "1875/1875 [==============================] - 19s 10ms/step - loss: 0.2735 - accuracy: 0.9171 - val_loss: 0.2529 - val_accuracy: 0.9256\n",
      "Epoch 9/10\n",
      "1875/1875 [==============================] - 19s 10ms/step - loss: 0.2568 - accuracy: 0.9223 - val_loss: 0.2601 - val_accuracy: 0.9221\n",
      "Epoch 10/10\n",
      "1875/1875 [==============================] - 18s 10ms/step - loss: 0.2428 - accuracy: 0.9256 - val_loss: 0.2273 - val_accuracy: 0.9318\n"
     ]
    }
   ],
   "source": [
    "# train_dataset = tf.data.Dataset.from_tensor_slices((X_train, Y_train)).batch(64)\n",
    "# test_dataset = tf.data.Dataset.from_tensor_slices((X_test, Y_test)).batch(64)\n",
    "# history = conv_model.fit(train_dataset, epochs=50, validation_data=test_dataset)\n",
    "# train over 50 epochs means the model sees the whole dataset 50 times\n",
    "# batch_size = 32 means we have batches that have 32 examples of images\n",
    "# we valid on the test set\n",
    "h = conv_model.fit(X_train, Y_train, epochs=10, batch_size=32, validation_data=(X_test, Y_test))"
   ]
  },
  {
   "cell_type": "markdown",
   "metadata": {},
   "source": [
    "### Plot Training Stats\n",
    "\n",
    "As we can see from the stats below, this basic model performs really well with a >90% accuracy"
   ]
  },
  {
   "cell_type": "code",
   "execution_count": 53,
   "metadata": {},
   "outputs": [
    {
     "data": {
      "text/plain": [
       "{'loss': [5.439155101776123,\n",
       "  1.1192586421966553,\n",
       "  0.6545752882957458,\n",
       "  0.45576778054237366,\n",
       "  0.3719988465309143,\n",
       "  0.3263300359249115,\n",
       "  0.29458996653556824,\n",
       "  0.2734672427177429,\n",
       "  0.25678199529647827,\n",
       "  0.24277137219905853],\n",
       " 'accuracy': [0.3750666677951813,\n",
       "  0.642300009727478,\n",
       "  0.8020833134651184,\n",
       "  0.8657833337783813,\n",
       "  0.8910333514213562,\n",
       "  0.9032999873161316,\n",
       "  0.9104666709899902,\n",
       "  0.9170833230018616,\n",
       "  0.9222833514213562,\n",
       "  0.9256166815757751],\n",
       " 'val_loss': [1.452133059501648,\n",
       "  0.7993616461753845,\n",
       "  0.5098254680633545,\n",
       "  0.3765830099582672,\n",
       "  0.3474029004573822,\n",
       "  0.29183170199394226,\n",
       "  0.2826945185661316,\n",
       "  0.2529127299785614,\n",
       "  0.2600686848163605,\n",
       "  0.22727680206298828],\n",
       " 'val_accuracy': [0.5335000157356262,\n",
       "  0.7493000030517578,\n",
       "  0.8438000082969666,\n",
       "  0.8880000114440918,\n",
       "  0.8906999826431274,\n",
       "  0.9129999876022339,\n",
       "  0.9140999913215637,\n",
       "  0.925599992275238,\n",
       "  0.9221000075340271,\n",
       "  0.9318000078201294]}"
      ]
     },
     "execution_count": 53,
     "metadata": {},
     "output_type": "execute_result"
    }
   ],
   "source": [
    "h.history"
   ]
  },
  {
   "cell_type": "code",
   "execution_count": 54,
   "metadata": {},
   "outputs": [
    {
     "name": "stderr",
     "output_type": "stream",
     "text": [
      "/var/folders/kg/7xftw3_12y10ppg5bv5lb26w0000gn/T/ipykernel_71348/1348083433.py:3: SettingWithCopyWarning: \n",
      "A value is trying to be set on a copy of a slice from a DataFrame\n",
      "\n",
      "See the caveats in the documentation: https://pandas.pydata.org/pandas-docs/stable/user_guide/indexing.html#returning-a-view-versus-a-copy\n",
      "  df_loss.rename(columns={'loss':'train','val_loss':'validation'},inplace=True)\n",
      "/var/folders/kg/7xftw3_12y10ppg5bv5lb26w0000gn/T/ipykernel_71348/1348083433.py:5: SettingWithCopyWarning: \n",
      "A value is trying to be set on a copy of a slice from a DataFrame\n",
      "\n",
      "See the caveats in the documentation: https://pandas.pydata.org/pandas-docs/stable/user_guide/indexing.html#returning-a-view-versus-a-copy\n",
      "  df_acc.rename(columns={'accuracy':'train','val_accuracy':'validation'},inplace=True)\n"
     ]
    },
    {
     "data": {
      "text/plain": [
       "[Text(0.5, 0, 'Epoch'), Text(0, 0.5, 'Accuracy')]"
      ]
     },
     "execution_count": 54,
     "metadata": {},
     "output_type": "execute_result"
    },
    {
     "data": {
      "image/png": "[encoded data removed]",
      "text/plain": [
       "<Figure size 1200x800 with 1 Axes>"
      ]
     },
     "metadata": {},
     "output_type": "display_data"
    },
    {
     "data": {
      "image/png": "[encoded data removed]",
      "text/plain": [
       "<Figure size 1200x800 with 1 Axes>"
      ]
     },
     "metadata": {},
     "output_type": "display_data"
    }
   ],
   "source": [
    "df_loss_acc = pd.DataFrame(h.history) # create dataframes of the data from training history\n",
    "df_loss= df_loss_acc[['loss','val_loss']]\n",
    "df_loss.rename(columns={'loss':'train','val_loss':'validation'},inplace=True)\n",
    "df_acc= df_loss_acc[['accuracy','val_accuracy']]\n",
    "df_acc.rename(columns={'accuracy':'train','val_accuracy':'validation'},inplace=True)\n",
    "df_loss.plot(title='Model loss',figsize=(12,8)).set(xlabel='Epoch',ylabel='Loss')\n",
    "df_acc.plot(title='Model Accuracy',figsize=(12,8)).set(xlabel='Epoch',ylabel='Accuracy')"
   ]
  }
 ],
 "metadata": {
  "kernelspec": {
   "display_name": "AI_env",
   "language": "python",
   "name": "python3"
  },
  "language_info": {
   "codemirror_mode": {
    "name": "ipython",
    "version": 3
   },
   "file_extension": ".py",
   "mimetype": "text/x-python",
   "name": "python",
   "nbconvert_exporter": "python",
   "pygments_lexer": "ipython3",
   "version": "3.10.13"
  }
 },
 "nbformat": 4,
 "nbformat_minor": 2
}
