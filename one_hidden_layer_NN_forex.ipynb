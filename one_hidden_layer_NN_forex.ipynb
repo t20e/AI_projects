{
 "cells": [
  {
   "cell_type": "markdown",
   "id": "5f1626ec-275c-4c19-974e-cc94d5bfeb88",
   "metadata": {},
   "source": [
    "# One layer forex Nueral Network \n",
    "* Attempting to see whether a One hidden layer Neural Network will perform better than a logistical regression model\n",
    "\n",
    "* result was it perform just a little bit better"
   ]
  },
  {
   "cell_type": "code",
   "execution_count": 1,
   "id": "4d2b9a40-0463-41d5-8c48-68d7cc34766f",
   "metadata": {},
   "outputs": [],
   "source": [
    "import numpy as np\n",
    "import copy\n",
    "import matplotlib.pyplot as plt\n",
    "import h5py\n",
    "import scipy\n",
    "from PIL import Image\n",
    "from scipy import ndimage\n",
    "import pandas as pd\n",
    "from sklearn.model_selection import train_test_split\n",
    "import sklearn\n",
    "import sklearn.datasets\n",
    "import sklearn.linear_model\n",
    "\n",
    "%matplotlib inline\n",
    "%load_ext autoreload\n",
    "%autoreload 2"
   ]
  },
  {
   "cell_type": "code",
   "execution_count": 2,
   "id": "afd78fa3-67d9-42c8-bd27-241bc68e628d",
   "metadata": {},
   "outputs": [],
   "source": [
    "def sigmoid(z):\n",
    "    \"\"\"\n",
    "    Compute the sigmoid of z\n",
    "    Arguments:\n",
    "    z -- A scalar or numpy array of any size.\n",
    "    \"\"\"\n",
    "    return 1 / (1 + np.exp(-z))"
   ]
  },
  {
   "cell_type": "code",
   "execution_count": 3,
   "id": "1de2938c-7831-4c46-a024-ab30d65682f0",
   "metadata": {},
   "outputs": [
    {
     "data": {
      "text/html": [
       "<div>\n",
       "<style scoped>\n",
       "    .dataframe tbody tr th:only-of-type {\n",
       "        vertical-align: middle;\n",
       "    }\n",
       "\n",
       "    .dataframe tbody tr th {\n",
       "        vertical-align: top;\n",
       "    }\n",
       "\n",
       "    .dataframe thead th {\n",
       "        text-align: right;\n",
       "    }\n",
       "</style>\n",
       "<table border=\"1\" class=\"dataframe\">\n",
       "  <thead>\n",
       "    <tr style=\"text-align: right;\">\n",
       "      <th></th>\n",
       "      <th>time</th>\n",
       "      <th>EUR_USD</th>\n",
       "    </tr>\n",
       "  </thead>\n",
       "  <tbody>\n",
       "    <tr>\n",
       "      <th>0</th>\n",
       "      <td>2018-08-22 02:40:00+00:00</td>\n",
       "      <td>1.15758</td>\n",
       "    </tr>\n",
       "    <tr>\n",
       "      <th>1</th>\n",
       "      <td>2018-08-22 02:45:00+00:00</td>\n",
       "      <td>1.15750</td>\n",
       "    </tr>\n",
       "    <tr>\n",
       "      <th>2</th>\n",
       "      <td>2018-08-22 02:50:00+00:00</td>\n",
       "      <td>1.15726</td>\n",
       "    </tr>\n",
       "    <tr>\n",
       "      <th>3</th>\n",
       "      <td>2018-08-22 02:55:00+00:00</td>\n",
       "      <td>1.15746</td>\n",
       "    </tr>\n",
       "    <tr>\n",
       "      <th>4</th>\n",
       "      <td>2018-08-22 03:00:00+00:00</td>\n",
       "      <td>1.15746</td>\n",
       "    </tr>\n",
       "    <tr>\n",
       "      <th>...</th>\n",
       "      <td>...</td>\n",
       "      <td>...</td>\n",
       "    </tr>\n",
       "    <tr>\n",
       "      <th>372104</th>\n",
       "      <td>2023-08-22 08:15:00+00:00</td>\n",
       "      <td>1.09182</td>\n",
       "    </tr>\n",
       "    <tr>\n",
       "      <th>372105</th>\n",
       "      <td>2023-08-22 08:20:00+00:00</td>\n",
       "      <td>1.09184</td>\n",
       "    </tr>\n",
       "    <tr>\n",
       "      <th>372106</th>\n",
       "      <td>2023-08-22 08:25:00+00:00</td>\n",
       "      <td>1.09183</td>\n",
       "    </tr>\n",
       "    <tr>\n",
       "      <th>372107</th>\n",
       "      <td>2023-08-22 08:30:00+00:00</td>\n",
       "      <td>1.09174</td>\n",
       "    </tr>\n",
       "    <tr>\n",
       "      <th>372108</th>\n",
       "      <td>2023-08-22 08:35:00+00:00</td>\n",
       "      <td>1.09164</td>\n",
       "    </tr>\n",
       "  </tbody>\n",
       "</table>\n",
       "<p>372109 rows × 2 columns</p>\n",
       "</div>"
      ],
      "text/plain": [
       "                             time  EUR_USD\n",
       "0       2018-08-22 02:40:00+00:00  1.15758\n",
       "1       2018-08-22 02:45:00+00:00  1.15750\n",
       "2       2018-08-22 02:50:00+00:00  1.15726\n",
       "3       2018-08-22 02:55:00+00:00  1.15746\n",
       "4       2018-08-22 03:00:00+00:00  1.15746\n",
       "...                           ...      ...\n",
       "372104  2023-08-22 08:15:00+00:00  1.09182\n",
       "372105  2023-08-22 08:20:00+00:00  1.09184\n",
       "372106  2023-08-22 08:25:00+00:00  1.09183\n",
       "372107  2023-08-22 08:30:00+00:00  1.09174\n",
       "372108  2023-08-22 08:35:00+00:00  1.09164\n",
       "\n",
       "[372109 rows x 2 columns]"
      ]
     },
     "execution_count": 3,
     "metadata": {},
     "output_type": "execute_result"
    }
   ],
   "source": [
    "df = pd.read_csv(\"./datasets/5_min_EUR_USD_2019_to_2023_mid_prices.csv\")\n",
    "df"
   ]
  },
  {
   "cell_type": "code",
   "execution_count": 4,
   "id": "13c99e37-0caa-4c35-a8f2-73b84e30a037",
   "metadata": {},
   "outputs": [],
   "source": [
    "symbol = 'EUR_USD'\n",
    "features_col_names = [\"price\", 'returns', \"dir\"]\n",
    "window = 50 # rolling window \n",
    "df[\"returns\"] = np.log(df[symbol] / df[symbol].shift())\n",
    "# if its positive we assign it [1] else negative [0]\n",
    "# Since this is a logistic regression Binary classification model its best to predict either 0 or 1 we cant make it \n",
    "# make it predict -1 if the price went down\n",
    "df['dir'] = np.where(df['returns'] > 0, 1, 0)\n",
    "# sma strategy calculate the distance between sma 50 and sma 150\n",
    "df.dropna(inplace = True)"
   ]
  },
  {
   "cell_type": "code",
   "execution_count": 5,
   "id": "f9c6a64f-ec7a-428f-9fd0-13e20a35599f",
   "metadata": {},
   "outputs": [],
   "source": [
    "def create_sequences(df, seq_length):\n",
    "    X, y = [], []\n",
    "    for i in range(0, len(df)-seq_length, seq_length):\n",
    "        X.append(df[df.columns[1]].iloc[i:i+seq_length])\n",
    "        y.append(df[df.columns[3]].iloc[i+seq_length - 1])\n",
    "    return np.array(X), np.array(y)"
   ]
  },
  {
   "cell_type": "code",
   "execution_count": 6,
   "id": "c8f347b8-4fc1-446b-9e2d-ecf31f87680a",
   "metadata": {},
   "outputs": [],
   "source": [
    "X, y = create_sequences(df, 300)"
   ]
  },
  {
   "cell_type": "code",
   "execution_count": 7,
   "id": "ed2893f5-b720-4c09-b62f-cf6d3fe3de90",
   "metadata": {},
   "outputs": [
    {
     "data": {
      "text/plain": [
       "(1240, 300)"
      ]
     },
     "execution_count": 7,
     "metadata": {},
     "output_type": "execute_result"
    }
   ],
   "source": [
    "X.shape # we have 24807 training examples "
   ]
  },
  {
   "cell_type": "code",
   "execution_count": 8,
   "id": "57ba4b84-b279-4862-9f76-1181c05e1b9a",
   "metadata": {},
   "outputs": [
    {
     "data": {
      "text/plain": [
       "(1240,)"
      ]
     },
     "execution_count": 8,
     "metadata": {},
     "output_type": "execute_result"
    }
   ],
   "source": [
    "y.shape"
   ]
  },
  {
   "cell_type": "code",
   "execution_count": 9,
   "id": "14d0f418-c2fe-45cb-b18f-d81246553414",
   "metadata": {},
   "outputs": [
    {
     "data": {
      "text/plain": [
       "array([1, 1, 1, ..., 0, 0, 1])"
      ]
     },
     "execution_count": 9,
     "metadata": {},
     "output_type": "execute_result"
    }
   ],
   "source": [
    "y"
   ]
  },
  {
   "cell_type": "code",
   "execution_count": 10,
   "id": "6997d7b7-27d2-469b-94a6-a835c71cad92",
   "metadata": {},
   "outputs": [],
   "source": [
    "# Standarize the data\n",
    "from sklearn.preprocessing import StandardScaler\n",
    "\n",
    "scaler = StandardScaler()\n",
    "X = scaler.fit_transform(X)"
   ]
  },
  {
   "cell_type": "code",
   "execution_count": 11,
   "id": "046b508f-d0ef-4196-9dc0-312582e25d0c",
   "metadata": {},
   "outputs": [],
   "source": [
    "X_train, X_test, y_train, y_test = train_test_split(X, y, test_size=0.2, random_state=42)"
   ]
  },
  {
   "cell_type": "code",
   "execution_count": 12,
   "id": "ed6a5666-9ba2-4d3f-ae84-459d9c9ae1e8",
   "metadata": {},
   "outputs": [
    {
     "data": {
      "text/plain": [
       "((992, 300), (248, 300))"
      ]
     },
     "execution_count": 12,
     "metadata": {},
     "output_type": "execute_result"
    }
   ],
   "source": [
    "X_train.shape, X_test.shape"
   ]
  },
  {
   "cell_type": "code",
   "execution_count": 13,
   "id": "a2db23d1-9ebb-4a3c-8d5e-cca4c6c56489",
   "metadata": {},
   "outputs": [
    {
     "data": {
      "text/plain": [
       "((992,), (248,))"
      ]
     },
     "execution_count": 13,
     "metadata": {},
     "output_type": "execute_result"
    }
   ],
   "source": [
    "y_train.shape, y_test.shape"
   ]
  },
  {
   "cell_type": "code",
   "execution_count": 14,
   "id": "3a2fd539-ddc9-4946-b4a5-da5033c30aea",
   "metadata": {},
   "outputs": [],
   "source": [
    "train_set_x = X_train.reshape(X_train.shape[0], -1).T\n",
    "test_set_x = X_test.reshape(X_test.shape[0], -1).T"
   ]
  },
  {
   "cell_type": "code",
   "execution_count": 15,
   "id": "bdbcdae5-3072-4cae-8b92-cd4429a001ba",
   "metadata": {},
   "outputs": [
    {
     "data": {
      "text/plain": [
       "((300, 992), (300, 248))"
      ]
     },
     "execution_count": 15,
     "metadata": {},
     "output_type": "execute_result"
    }
   ],
   "source": [
    "train_set_x.shape, test_set_x.shape"
   ]
  },
  {
   "cell_type": "code",
   "execution_count": 16,
   "id": "7a6c14a8-f07b-41fe-9ef3-b8e4324554c1",
   "metadata": {},
   "outputs": [
    {
     "data": {
      "text/plain": [
       "((1, 992), (1, 248))"
      ]
     },
     "execution_count": 16,
     "metadata": {},
     "output_type": "execute_result"
    }
   ],
   "source": [
    "train_set_y = y_train.reshape(1, -1)\n",
    "test_set_y = y_test.reshape(1, -1)\n",
    "train_set_y.shape, test_set_y.shape"
   ]
  },
  {
   "cell_type": "code",
   "execution_count": 17,
   "id": "e581d129-7e71-47fa-9daa-153c965f1de0",
   "metadata": {},
   "outputs": [
    {
     "name": "stdout",
     "output_type": "stream",
     "text": [
      "\n",
      "train_set_x shape: (300, 992)\n",
      "test_set_x shape: (300, 248)\n",
      "\n",
      "train_set_y shape: (1, 992)\n",
      "test_set_y shape: (1, 248)\n",
      "\n"
     ]
    }
   ],
   "source": [
    "print(f\"\"\"\n",
    "train_set_x shape: {train_set_x.shape}\n",
    "test_set_x shape: {test_set_x.shape}\n",
    "\n",
    "train_set_y shape: {train_set_y.shape}\n",
    "test_set_y shape: {test_set_y.shape}\n",
    "\"\"\")"
   ]
  },
  {
   "cell_type": "code",
   "execution_count": 18,
   "id": "f56f97ac-ca3d-4d8a-8b35-4f60f602c190",
   "metadata": {},
   "outputs": [
    {
     "data": {
      "image/png": "[encoded data removed]",
      "text/plain": [
       "<Figure size 640x480 with 1 Axes>"
      ]
     },
     "metadata": {},
     "output_type": "display_data"
    }
   ],
   "source": [
    "plt.scatter(train_set_x[0, :], train_set_x[1, :], c=train_set_y, s=40, cmap=plt.cm.Spectral);"
   ]
  },
  {
   "cell_type": "markdown",
   "id": "7d870324-ab42-45f3-a846-688b091f2696",
   "metadata": {},
   "source": [
    "### Simple logistic regression test"
   ]
  },
  {
   "cell_type": "code",
   "execution_count": 19,
   "id": "c5f9cd11-718e-4bcd-a6ec-6d362b981233",
   "metadata": {
    "scrolled": true
   },
   "outputs": [
    {
     "name": "stderr",
     "output_type": "stream",
     "text": [
      "/Users/tonyavis/miniconda3/envs/AI_env/lib/python3.10/site-packages/sklearn/utils/validation.py:1183: DataConversionWarning: A column-vector y was passed when a 1d array was expected. Please change the shape of y to (n_samples, ), for example using ravel().\n",
      "  y = column_or_1d(y, warn=True)\n"
     ]
    }
   ],
   "source": [
    "# Train the logistic regression classifier\n",
    "clf = sklearn.linear_model.LogisticRegressionCV(max_iter=500_000);\n",
    "clf.fit(train_set_x.T, train_set_y.T);"
   ]
  },
  {
   "cell_type": "code",
   "execution_count": 20,
   "id": "d8422c54-9a77-4484-b5b0-580e5b24360b",
   "metadata": {
    "scrolled": true
   },
   "outputs": [
    {
     "name": "stdout",
     "output_type": "stream",
     "text": [
      "Accuracy of logistic regression: 97 % (percentage of correctly labelled datapoints)\n"
     ]
    },
    {
     "name": "stderr",
     "output_type": "stream",
     "text": [
      "/var/folders/kg/7xftw3_12y10ppg5bv5lb26w0000gn/T/ipykernel_84826/2783312128.py:3: DeprecationWarning: Conversion of an array with ndim > 0 to a scalar is deprecated, and will error in future. Ensure you extract a single element from your array before performing this operation. (Deprecated NumPy 1.25.)\n",
      "  print ('Accuracy of logistic regression: %d ' % float((np.dot(train_set_y,LR_predictions) + np.dot(1-train_set_y,1-LR_predictions))/float(train_set_y.size)*100) +\n"
     ]
    },
    {
     "data": {
      "text/plain": [
       "' Not really sure y the accuracy is so high '"
      ]
     },
     "execution_count": 20,
     "metadata": {},
     "output_type": "execute_result"
    }
   ],
   "source": [
    "# Print accuracy\n",
    "LR_predictions = clf.predict(train_set_x.T)\n",
    "print ('Accuracy of logistic regression: %d ' % float((np.dot(train_set_y,LR_predictions) + np.dot(1-train_set_y,1-LR_predictions))/float(train_set_y.size)*100) +\n",
    "       '% ' + \"(percentage of correctly labelled datapoints)\")\n",
    "\"\"\" Not really sure y the accuracy is so high \"\"\""
   ]
  },
  {
   "cell_type": "code",
   "execution_count": 21,
   "id": "14e8f8d1-4442-409f-b604-3838ab0278b0",
   "metadata": {},
   "outputs": [],
   "source": [
    "def layer_sizes(X, Y):\n",
    "    \"\"\"\n",
    "    Arguments:\n",
    "    X -- input dataset of shape (input size, number of examples)\n",
    "    Y -- labels of shape (output size, number of examples)\n",
    "    \n",
    "    Returns:\n",
    "    n_x -- the size of the input layer\n",
    "    n_h -- the size of the hidden layer\n",
    "    n_y -- the size of the output layer\n",
    "    \"\"\"\n",
    "    n_x = X.shape[0]\n",
    "    n_h = 4\n",
    "    n_y = Y.shape[0]\n",
    "    \n",
    "    return (n_x, n_h, n_y)"
   ]
  },
  {
   "cell_type": "code",
   "execution_count": 22,
   "id": "96504140-fe71-4a4b-a5db-04f2bc839da4",
   "metadata": {},
   "outputs": [],
   "source": [
    "def initialize_parameters(n_x, n_h, n_y):\n",
    "    \"\"\"\n",
    "    Argument:\n",
    "    n_x -- size of the input layer\n",
    "    n_h -- size of the hidden layer\n",
    "    n_y -- size of the output layer\n",
    "    \n",
    "    Returns:\n",
    "    params -- python dictionary containing your parameters:\n",
    "                    W1 -- weight matrix of shape (n_h, n_x)\n",
    "                    b1 -- bias vector of shape (n_h, 1)\n",
    "                    W2 -- weight matrix of shape (n_y, n_h)\n",
    "                    b2 -- bias vector of shape (n_y, 1)\n",
    "    \"\"\"    \n",
    "    W1 = np.random.randn(n_h, n_x) * 0.01\n",
    "    b1 = np.zeros((n_h, 1))\n",
    "    W2 = np.random.randn(n_y, n_h) * 0.01\n",
    "    b2 = np.zeros((n_y, 1))\n",
    "    parameters = {\"W1\": W1,\n",
    "                  \"b1\": b1,\n",
    "                  \"W2\": W2,\n",
    "                  \"b2\": b2}\n",
    "    \n",
    "    return parameters"
   ]
  },
  {
   "cell_type": "code",
   "execution_count": 23,
   "id": "b35b8d3f-c809-4572-95d5-dd4eeb61a33b",
   "metadata": {},
   "outputs": [],
   "source": [
    "def forward_propagation(X, parameters):\n",
    "    \"\"\"\n",
    "    Argument:\n",
    "    X -- input data of size (n_x, m)\n",
    "    parameters -- python dictionary containing your parameters (output of initialization function)\n",
    "    \n",
    "    Returns:\n",
    "    A2 -- The sigmoid output of the second activation\n",
    "    cache -- a dictionary containing \"Z1\", \"A1\", \"Z2\" and \"A2\"\n",
    "    \"\"\"\n",
    "    # Retrieve each parameter from the dictionary \"parameters\"\n",
    "    W1 = parameters[\"W1\"]\n",
    "    b1 = parameters[\"b1\"]\n",
    "    W2 = parameters[\"W2\"]\n",
    "    b2 = parameters[\"b2\"]\n",
    "    \n",
    "    \n",
    "    # Implement Forward Propagation to calculate A2 (probabilities)\n",
    "    Z1 = np.dot(W1, X) + b1\n",
    "    A1 = np.tanh(Z1)\n",
    "    Z2 = np.dot(W2, A1) + b2\n",
    "    A2 = sigmoid(Z2)\n",
    "    \n",
    "    \n",
    "    assert(A2.shape == (1, X.shape[1]))\n",
    "    \n",
    "    cache = {\"Z1\": Z1,\n",
    "             \"A1\": A1,\n",
    "             \"Z2\": Z2,\n",
    "             \"A2\": A2}\n",
    "    \n",
    "    return A2, cache"
   ]
  },
  {
   "cell_type": "code",
   "execution_count": 24,
   "id": "eb2189be-f2e3-4346-9ec3-a4bf75f54954",
   "metadata": {},
   "outputs": [],
   "source": [
    "def compute_cost(A2, Y):\n",
    "    \"\"\"\n",
    "    Computes the cross-entropy cost given in equation (13)\n",
    "    \n",
    "    Arguments:\n",
    "    A2 -- The sigmoid output of the second activation, of shape (1, number of examples)\n",
    "    Y -- \"true\" labels vector of shape (1, number of examples)\n",
    "\n",
    "    Returns:\n",
    "    cost -- cross-entropy cost given equation (13)\n",
    "    \n",
    "    \"\"\"\n",
    "    \n",
    "    m = Y.shape[1] # number of examples\n",
    "\n",
    "    # Compute the cross-entropy cost\n",
    "#     logprobs = np.multiply(np.log(A2),Y) + (1 - Y) * np.log(1 - A2)\n",
    "# line above or below doesnt matter\n",
    "    logprobs = np.multiply(np.log(A2),Y) + np.multiply((1-Y), np.log(1 - A2))\n",
    "    cost = (-1/m) * np.sum(logprobs)  \n",
    "    \n",
    "    \n",
    "    cost = float(np.squeeze(cost))  # makes sure cost is the dimension we expect. \n",
    "                                    # E.g., turns [[17]] into 17 \n",
    "    \n",
    "    return cost"
   ]
  },
  {
   "cell_type": "code",
   "execution_count": 25,
   "id": "9f8e5eef-77c7-4082-8d60-8b09e9143a86",
   "metadata": {},
   "outputs": [],
   "source": [
    "\n",
    "def backward_propagation(parameters, cache, X, Y):\n",
    "    \"\"\"\n",
    "    Implement the backward propagation using the instructions above.\n",
    "    \n",
    "    Arguments:\n",
    "    parameters -- python dictionary containing our parameters \n",
    "    cache -- a dictionary containing \"Z1\", \"A1\", \"Z2\" and \"A2\".\n",
    "    X -- input data of shape (2, number of examples)\n",
    "    Y -- \"true\" labels vector of shape (1, number of examples)\n",
    "    \n",
    "    Returns:\n",
    "    grads -- python dictionary containing your gradients with respect to different parameters\n",
    "    \"\"\"\n",
    "    m = X.shape[1]\n",
    "    \n",
    "    W1 = parameters[\"W1\"]\n",
    "    W2 = parameters[\"W2\"]\n",
    "        \n",
    "    # Retrieve also A1 and A2 from dictionary \"cache\".\n",
    "    A1 = cache[\"A1\"]\n",
    "    A2 = cache[\"A2\"]\n",
    "    \n",
    "    # Backward propagation: calculate dW1, db1, dW2, db2. \n",
    "    dZ2 = A2 - Y\n",
    "    dW2 = (1/m) * np.dot(dZ2, A1.T)\n",
    "    db2 = (1/m) * np.sum(dZ2, axis=1, keepdims=True)\n",
    "    dZ1 = np.dot(W2.T, dZ2) * (1 - np.power(A1, 2))\n",
    "    dW1 = (1/m) * np.dot(dZ1, X.T)\n",
    "    db1 = (1/m) * np.sum(dZ1, axis=1, keepdims=True)\n",
    "    \n",
    "    grads = {\"dW1\": dW1,\n",
    "             \"db1\": db1,\n",
    "             \"dW2\": dW2,\n",
    "             \"db2\": db2}\n",
    "    \n",
    "    return grads"
   ]
  },
  {
   "cell_type": "code",
   "execution_count": 26,
   "id": "8a66c29f-60d1-4694-b760-a73dbc2c6b7b",
   "metadata": {},
   "outputs": [],
   "source": [
    "def update_parameters(parameters, grads, learning_rate = 1.2):\n",
    "    \"\"\"\n",
    "    Updates parameters using the gradient descent update rule given above\n",
    "    \n",
    "    Arguments:\n",
    "    parameters -- python dictionary containing your parameters \n",
    "    grads -- python dictionary containing your gradients \n",
    "    \n",
    "    Returns:\n",
    "    parameters -- python dictionary containing your updated parameters \n",
    "    \"\"\"\n",
    "    # Retrieve a copy of each parameter from the dictionary \"parameters\". Use copy.deepcopy(...) for W1 and W2\n",
    "    W1 = copy.deepcopy(parameters[\"W1\"])\n",
    "    b1 = copy.deepcopy(parameters[\"b1\"])\n",
    "    W2 = copy.deepcopy(parameters[\"W2\"])\n",
    "    b2 = copy.deepcopy(parameters[\"b2\"])\n",
    "    \n",
    "    # Retrieve each gradient from the dictionary \"grads\"\n",
    "    dW1 = copy.deepcopy(grads[\"dW1\"])\n",
    "    db1 = copy.deepcopy(grads[\"db1\"])\n",
    "    dW2 = copy.deepcopy(grads[\"dW2\"])\n",
    "    db2 = copy.deepcopy(grads[\"db2\"])\n",
    "    \n",
    "    \n",
    "    # Update rule for each parameter\n",
    "    W1 = W1 - learning_rate * dW1\n",
    "    b1 = b1 - learning_rate * db1\n",
    "    W2 = W2 - learning_rate * dW2\n",
    "    b2 = b2 - learning_rate * db2\n",
    "    \n",
    "    parameters = {\"W1\": W1,\n",
    "                  \"b1\": b1,\n",
    "                  \"W2\": W2,\n",
    "                  \"b2\": b2}\n",
    "    \n",
    "    return parameters"
   ]
  },
  {
   "cell_type": "code",
   "execution_count": 27,
   "id": "6889db08-6f4a-4982-a60e-06182cbc5eb1",
   "metadata": {},
   "outputs": [],
   "source": [
    "def nn_model(X, Y, n_h, num_iterations = 10000, print_cost=False):\n",
    "    \"\"\"\n",
    "    Arguments:\n",
    "    X -- dataset of shape (2, number of examples)\n",
    "    Y -- labels of shape (1, number of examples)\n",
    "    n_h -- size of the hidden layer\n",
    "    num_iterations -- Number of iterations in gradient descent loop/ how many times the model sees the data\n",
    "    print_cost -- if True, print the cost every 1000 iterations\n",
    "    \n",
    "    Returns:\n",
    "    parameters -- parameters learnt by the model. They can then be used to predict.\n",
    "    \"\"\"\n",
    "    \n",
    "    np.random.seed(3)\n",
    "    n_x = layer_sizes(X, Y)[0]\n",
    "    n_y = layer_sizes(X, Y)[2]\n",
    "    \n",
    "    # Initialize parameters\n",
    "    parameters = initialize_parameters(n_x, n_h, n_y)\n",
    "    \n",
    "    \n",
    "    # Loop (gradient descent)\n",
    "    for i in range(0, num_iterations):\n",
    "        # Forward propagation. Inputs: \"X, parameters\". Outputs: \"A2, cache\".\n",
    "        A2, cache = forward_propagation(X, parameters)\n",
    "        cost = compute_cost(A2, Y)\n",
    "\n",
    "        # Backpropagation. Inputs: \"parameters, cache, X, Y\". Outputs: \"grads\".\n",
    "        grads = backward_propagation(parameters, cache, X, Y)\n",
    "        # Gradient descent parameter update. Inputs: \"parameters, grads\". Outputs: \"parameters\".\n",
    "        parameters = update_parameters(parameters, grads)\n",
    "        \n",
    "        # Print the cost every 1000 iterations\n",
    "        if print_cost and i % 1000 == 0:\n",
    "            print (\"Cost after iteration %i: %f\" %(i, cost))\n",
    "\n",
    "    return parameters"
   ]
  },
  {
   "cell_type": "code",
   "execution_count": 28,
   "id": "357ade7f-5d48-41ba-9bee-5d0e96be33d7",
   "metadata": {},
   "outputs": [],
   "source": [
    "def predict(parameters, X):\n",
    "    \"\"\"\n",
    "    Using the learned parameters, predicts a class for each example in X\n",
    "    \n",
    "    Arguments:\n",
    "    parameters -- python dictionary containing your parameters \n",
    "    X -- input data of size (n_x, m)\n",
    "    \n",
    "    Returns\n",
    "    predictions -- vector of predictions of our model (red: 0 / blue: 1)\n",
    "    \"\"\"\n",
    "    \n",
    "    # Computes probabilities using forward propagation, and classifies to 0/1 using 0.5 as the threshold.\n",
    "    A2, cache = forward_propagation(X, parameters)\n",
    "    # predictions = A2 > .5 #returns true or false\n",
    "    \n",
    "    m = X.shape[1]\n",
    "    Y_prediction = np.zeros((1, m))\n",
    "\n",
    "    for i in range(A2.shape[1]):\n",
    "        if A2[0, i] > .5 :\n",
    "            Y_prediction[0,i] = 1\n",
    "        else:\n",
    "            Y_prediction[0,i] = 0\n",
    "        \n",
    "    return Y_prediction"
   ]
  },
  {
   "cell_type": "code",
   "execution_count": 29,
   "id": "48402494-0177-4a3b-bca0-07fa29a23121",
   "metadata": {
    "scrolled": true
   },
   "outputs": [
    {
     "name": "stdout",
     "output_type": "stream",
     "text": [
      "Cost after iteration 0: 0.693133\n",
      "Cost after iteration 1000: 0.691715\n",
      "Cost after iteration 2000: 0.691782\n",
      "Cost after iteration 3000: 0.685438\n",
      "Cost after iteration 4000: 0.704630\n",
      "Cost after iteration 5000: 0.673596\n",
      "Cost after iteration 6000: 0.662356\n",
      "Cost after iteration 7000: 0.661190\n",
      "Cost after iteration 8000: 0.641280\n",
      "Cost after iteration 9000: 0.644193\n"
     ]
    }
   ],
   "source": [
    "# Build a model with a n_h-dimensional hidden layer\n",
    "parameters = nn_model(train_set_x, train_set_y, n_h = 4, num_iterations = 10000, print_cost=True)"
   ]
  },
  {
   "cell_type": "code",
   "execution_count": 30,
   "id": "4077df99-eb2f-4cb5-9831-a289903e3005",
   "metadata": {},
   "outputs": [],
   "source": [
    "predictions = predict(parameters, test_set_x)"
   ]
  },
  {
   "cell_type": "code",
   "execution_count": 31,
   "id": "5e4a37b8-a8fe-4b09-b4da-c95bc7799c95",
   "metadata": {},
   "outputs": [
    {
     "data": {
      "text/plain": [
       "((1, 248), (1, 248))"
      ]
     },
     "execution_count": 31,
     "metadata": {},
     "output_type": "execute_result"
    }
   ],
   "source": [
    "test_set_y.shape, predictions.shape"
   ]
  },
  {
   "cell_type": "code",
   "execution_count": 32,
   "id": "3e9fecd2-5674-4019-a0a6-231fc52c3395",
   "metadata": {},
   "outputs": [
    {
     "data": {
      "text/plain": [
       "248"
      ]
     },
     "execution_count": 32,
     "metadata": {},
     "output_type": "execute_result"
    }
   ],
   "source": [
    "len(predictions[0])"
   ]
  },
  {
   "cell_type": "code",
   "execution_count": 33,
   "id": "87300dfb-bc8c-4c51-82c0-c03b49c13046",
   "metadata": {},
   "outputs": [],
   "source": [
    "matching_values = np.sum(predictions == test_set_y)"
   ]
  },
  {
   "cell_type": "code",
   "execution_count": 34,
   "id": "7a656f29-77ad-4a44-ac6a-6f56c7a6bfdd",
   "metadata": {},
   "outputs": [
    {
     "name": "stdout",
     "output_type": "stream",
     "text": [
      "Accuracy: 58.06%\n"
     ]
    }
   ],
   "source": [
    "print(f\"\"\"Accuracy: {round(matching_values / len(predictions[0]) * 100, 2)}%\"\"\")"
   ]
  },
  {
   "cell_type": "markdown",
   "id": "4c5751f5-74b3-4540-b018-f9f53307ef7e",
   "metadata": {},
   "source": [
    "## Tuning"
   ]
  },
  {
   "cell_type": "code",
   "execution_count": 35,
   "id": "0bd66ed7-8607-43e9-aa8d-7721f8fa8455",
   "metadata": {
    "scrolled": true
   },
   "outputs": [
    {
     "name": "stdout",
     "output_type": "stream",
     "text": [
      "Accuracy for 1 hidden units: 57.66 %\n",
      "Accuracy for 2 hidden units: 55.24 %\n",
      "Accuracy for 3 hidden units: 54.44 %\n",
      "Accuracy for 4 hidden units: 56.05 %\n",
      "Accuracy for 5 hidden units: 45.97 %\n"
     ]
    },
    {
     "name": "stderr",
     "output_type": "stream",
     "text": [
      "/var/folders/kg/7xftw3_12y10ppg5bv5lb26w0000gn/T/ipykernel_84826/1920958308.py:19: RuntimeWarning: divide by zero encountered in log\n",
      "  logprobs = np.multiply(np.log(A2),Y) + np.multiply((1-Y), np.log(1 - A2))\n",
      "/var/folders/kg/7xftw3_12y10ppg5bv5lb26w0000gn/T/ipykernel_84826/1920958308.py:19: RuntimeWarning: invalid value encountered in multiply\n",
      "  logprobs = np.multiply(np.log(A2),Y) + np.multiply((1-Y), np.log(1 - A2))\n"
     ]
    },
    {
     "name": "stdout",
     "output_type": "stream",
     "text": [
      "Accuracy for 100 hidden units: 53.63 %\n"
     ]
    }
   ],
   "source": [
    "# This may take about 2 minutes to run\n",
    "hidden_layer_sizes = [1, 2, 3, 4, 5, 100]\n",
    "\n",
    "# you can try with different hidden layer sizes\n",
    "# but make sure before you submit the assignment it its set as \"hidden_layer_sizes = [1, 2, 3, 4, 5]\"\n",
    "# hidden_layer_sizes = [1, 2, 3, 4, 5, 20, 50]\n",
    "\n",
    "for i, n_h in enumerate(hidden_layer_sizes):\n",
    "    parameters = nn_model(train_set_x, train_set_y, n_h, num_iterations = 5000)\n",
    "    predictions = predict(parameters, test_set_x)\n",
    "    matching_values = np.sum(predictions == test_set_y)\n",
    "    accuracy = round(matching_values / len(predictions[0]) * 100, 2)\n",
    "    print (\"Accuracy for {} hidden units: {} %\".format(n_h, accuracy))\n"
   ]
  },
  {
   "cell_type": "code",
   "execution_count": null,
   "id": "d2d81dd9-b2bd-4ecf-9cdd-f34b8146c87d",
   "metadata": {},
   "outputs": [],
   "source": []
  },
  {
   "cell_type": "code",
   "execution_count": null,
   "id": "f3f2ed41-5f54-4848-bd55-bbb4a4377160",
   "metadata": {},
   "outputs": [],
   "source": []
  }
 ],
 "metadata": {
  "kernelspec": {
   "display_name": "Python 3 (ipykernel)",
   "language": "python",
   "name": "python3"
  },
  "language_info": {
   "codemirror_mode": {
    "name": "ipython",
    "version": 3
   },
   "file_extension": ".py",
   "mimetype": "text/x-python",
   "name": "python",
   "nbconvert_exporter": "python",
   "pygments_lexer": "ipython3",
   "version": "3.12.0"
  }
 },
 "nbformat": 4,
 "nbformat_minor": 5
}
